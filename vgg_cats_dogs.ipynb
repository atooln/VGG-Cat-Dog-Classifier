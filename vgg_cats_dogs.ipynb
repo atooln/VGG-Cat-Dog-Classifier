{
 "cells": [
  {
   "cell_type": "markdown",
   "metadata": {},
   "source": [
    "Cats and Dogs Classifier\n",
    "================================================================\n"
   ]
  },
  {
   "cell_type": "code",
   "execution_count": 2,
   "metadata": {},
   "outputs": [],
   "source": [
    "import tensorflow as tf\n",
    "from keras.preprocessing.image import ImageDataGenerator"
   ]
  },
  {
   "cell_type": "code",
   "execution_count": 3,
   "metadata": {},
   "outputs": [
    {
     "data": {
      "text/plain": [
       "'2.7.0'"
      ]
     },
     "execution_count": 3,
     "metadata": {},
     "output_type": "execute_result"
    }
   ],
   "source": [
    "tf.__version__"
   ]
  },
  {
   "cell_type": "markdown",
   "metadata": {},
   "source": [
    "### Preprocessing\n"
   ]
  },
  {
   "cell_type": "markdown",
   "metadata": {},
   "source": [
    "Training Set Augmentation"
   ]
  },
  {
   "cell_type": "code",
   "execution_count": 4,
   "metadata": {},
   "outputs": [
    {
     "name": "stdout",
     "output_type": "stream",
     "text": [
      "Found 8000 images belonging to 2 classes.\n"
     ]
    }
   ],
   "source": [
    "train_augment = ImageDataGenerator(\n",
    "    rescale = 1./255,\n",
    "    shear_range = 0.2,\n",
    "    zoom_range = 0.2,\n",
    "    horizontal_flip = True\n",
    ")\n",
    "\n",
    "training_set = train_augment.flow_from_directory('dataset/training_set',\n",
    "                                                 target_size = (64, 64),\n",
    "                                                 batch_size = 32,\n",
    "                                                 class_mode = 'binary')"
   ]
  },
  {
   "cell_type": "markdown",
   "metadata": {},
   "source": [
    "Test Set Rescaling"
   ]
  },
  {
   "cell_type": "code",
   "execution_count": 5,
   "metadata": {},
   "outputs": [
    {
     "name": "stdout",
     "output_type": "stream",
     "text": [
      "Found 2000 images belonging to 2 classes.\n"
     ]
    }
   ],
   "source": [
    "test_rescale = ImageDataGenerator(rescale = 1./255)\n",
    "\n",
    "test_set = test_rescale.flow_from_directory('dataset/test_set',\n",
    "                                            target_size = (64, 64),\n",
    "                                            batch_size = 32,\n",
    "                                            class_mode = 'binary')"
   ]
  },
  {
   "cell_type": "markdown",
   "metadata": {},
   "source": [
    "### Building the CNN"
   ]
  },
  {
   "cell_type": "markdown",
   "metadata": {},
   "source": [
    "Init CNN"
   ]
  },
  {
   "cell_type": "code",
   "execution_count": 6,
   "metadata": {},
   "outputs": [],
   "source": [
    "#Init CNN\n",
    "cnn = tf.keras.models.Sequential()"
   ]
  },
  {
   "cell_type": "markdown",
   "metadata": {},
   "source": [
    "First Convolutional/Pooling Layer"
   ]
  },
  {
   "cell_type": "code",
   "execution_count": 7,
   "metadata": {},
   "outputs": [],
   "source": [
    "#Convolution Layer\n",
    "cnn.add(\n",
    "    tf.keras.layers.Conv2D(\n",
    "        filters=32, \n",
    "        kernel_size=3, \n",
    "        activation='relu', \n",
    "        input_shape=[64,64,3]\n",
    "        )\n",
    "    )\n",
    "\n",
    "#Pooling Layer\n",
    "cnn.add(\n",
    "    tf.keras.layers.MaxPool2D(pool_size=2, strides=2)\n",
    ")"
   ]
  },
  {
   "cell_type": "markdown",
   "metadata": {},
   "source": [
    "Second Convolutional/Pooling Layer"
   ]
  },
  {
   "cell_type": "code",
   "execution_count": 8,
   "metadata": {},
   "outputs": [],
   "source": [
    "#Second Convolution Layer\n",
    "cnn.add(\n",
    "    tf.keras.layers.Conv2D(\n",
    "        filters=32, \n",
    "        kernel_size=3, \n",
    "        activation='relu'\n",
    "        )\n",
    "    )\n",
    "\n",
    "#Second Pooling Layer\n",
    "cnn.add(\n",
    "    tf.keras.layers.MaxPool2D(pool_size=2, strides=2)\n",
    ")"
   ]
  },
  {
   "cell_type": "markdown",
   "metadata": {},
   "source": [
    "Flattening (Input Layer of the NN)"
   ]
  },
  {
   "cell_type": "code",
   "execution_count": 9,
   "metadata": {},
   "outputs": [],
   "source": [
    "cnn.add(tf.keras.layers.Flatten())"
   ]
  },
  {
   "cell_type": "markdown",
   "metadata": {},
   "source": [
    "Full Connection (Hidden/Output layer of the NN)"
   ]
  },
  {
   "cell_type": "code",
   "execution_count": 28,
   "metadata": {},
   "outputs": [],
   "source": [
    "#hidden layers\n",
    "cnn.add(tf.keras.layers.Dense(units=128, activation= 'relu'))\n",
    "\n",
    "#output layer\n",
    "cnn.add(tf.keras.layers.Dense(units=1, activation= 'sigmoid'))"
   ]
  },
  {
   "cell_type": "markdown",
   "metadata": {},
   "source": [
    "### Training "
   ]
  },
  {
   "cell_type": "markdown",
   "metadata": {},
   "source": [
    "Compile CNN"
   ]
  },
  {
   "cell_type": "code",
   "execution_count": 29,
   "metadata": {},
   "outputs": [],
   "source": [
    "cnn.compile(\n",
    "    optimizer= tf.keras.optimizers.Adam(learning_rate = 0.0001), \n",
    "    loss='binary_crossentropy', \n",
    "    metrics=['accuracy'])"
   ]
  },
  {
   "cell_type": "markdown",
   "metadata": {},
   "source": [
    "Fit model onto the data"
   ]
  },
  {
   "cell_type": "code",
   "execution_count": 30,
   "metadata": {},
   "outputs": [
    {
     "name": "stdout",
     "output_type": "stream",
     "text": [
      "Epoch 1/25\n",
      "250/250 [==============================] - 17s 67ms/step - loss: 0.5566 - accuracy: 0.7481 - val_loss: 0.5747 - val_accuracy: 0.7645\n",
      "Epoch 2/25\n",
      "250/250 [==============================] - 16s 65ms/step - loss: 0.5360 - accuracy: 0.8224 - val_loss: 0.5662 - val_accuracy: 0.7865\n",
      "Epoch 3/25\n",
      "250/250 [==============================] - 17s 67ms/step - loss: 0.5112 - accuracy: 0.8435 - val_loss: 0.5642 - val_accuracy: 0.7945\n",
      "Epoch 4/25\n",
      "250/250 [==============================] - 17s 66ms/step - loss: 0.5030 - accuracy: 0.8530 - val_loss: 0.5825 - val_accuracy: 0.7675\n",
      "Epoch 5/25\n",
      "250/250 [==============================] - 17s 67ms/step - loss: 0.4938 - accuracy: 0.8573 - val_loss: 0.5756 - val_accuracy: 0.7890\n",
      "Epoch 6/25\n",
      "250/250 [==============================] - 17s 66ms/step - loss: 0.4848 - accuracy: 0.8601 - val_loss: 0.6194 - val_accuracy: 0.7630\n",
      "Epoch 7/25\n",
      "250/250 [==============================] - 17s 66ms/step - loss: 0.4745 - accuracy: 0.8683 - val_loss: 0.6292 - val_accuracy: 0.7650\n",
      "Epoch 8/25\n",
      "250/250 [==============================] - 16s 66ms/step - loss: 0.4612 - accuracy: 0.8760 - val_loss: 0.5322 - val_accuracy: 0.8020\n",
      "Epoch 9/25\n",
      "250/250 [==============================] - 17s 66ms/step - loss: 0.4528 - accuracy: 0.8736 - val_loss: 0.6472 - val_accuracy: 0.7595\n",
      "Epoch 10/25\n",
      "250/250 [==============================] - 17s 67ms/step - loss: 0.4509 - accuracy: 0.8745 - val_loss: 0.5292 - val_accuracy: 0.7960\n",
      "Epoch 11/25\n",
      "250/250 [==============================] - 17s 67ms/step - loss: 0.4466 - accuracy: 0.8728 - val_loss: 0.5555 - val_accuracy: 0.7950\n",
      "Epoch 12/25\n",
      "250/250 [==============================] - 17s 67ms/step - loss: 0.4361 - accuracy: 0.8809 - val_loss: 0.5638 - val_accuracy: 0.8030\n",
      "Epoch 13/25\n",
      "250/250 [==============================] - 17s 67ms/step - loss: 0.4267 - accuracy: 0.8839 - val_loss: 0.5950 - val_accuracy: 0.7870\n",
      "Epoch 14/25\n",
      "250/250 [==============================] - 17s 67ms/step - loss: 0.4175 - accuracy: 0.8884 - val_loss: 0.6043 - val_accuracy: 0.7860\n",
      "Epoch 15/25\n",
      "250/250 [==============================] - 17s 68ms/step - loss: 0.4159 - accuracy: 0.8859 - val_loss: 0.5722 - val_accuracy: 0.7985\n",
      "Epoch 16/25\n",
      "250/250 [==============================] - 17s 67ms/step - loss: 0.4034 - accuracy: 0.8906 - val_loss: 0.5515 - val_accuracy: 0.8070\n",
      "Epoch 17/25\n",
      "250/250 [==============================] - 17s 68ms/step - loss: 0.3987 - accuracy: 0.8939 - val_loss: 0.5587 - val_accuracy: 0.7990\n",
      "Epoch 18/25\n",
      "250/250 [==============================] - 17s 68ms/step - loss: 0.3898 - accuracy: 0.8993 - val_loss: 0.6119 - val_accuracy: 0.8085\n",
      "Epoch 19/25\n",
      "250/250 [==============================] - 17s 68ms/step - loss: 0.3875 - accuracy: 0.9010 - val_loss: 0.5651 - val_accuracy: 0.8010\n",
      "Epoch 20/25\n",
      "250/250 [==============================] - 17s 67ms/step - loss: 0.3781 - accuracy: 0.8988 - val_loss: 0.6408 - val_accuracy: 0.7890\n",
      "Epoch 21/25\n",
      "250/250 [==============================] - 17s 68ms/step - loss: 0.3730 - accuracy: 0.9053 - val_loss: 0.5737 - val_accuracy: 0.8045\n",
      "Epoch 22/25\n",
      "250/250 [==============================] - 17s 67ms/step - loss: 0.3652 - accuracy: 0.9064 - val_loss: 0.5660 - val_accuracy: 0.8020\n",
      "Epoch 23/25\n",
      "250/250 [==============================] - 17s 68ms/step - loss: 0.3611 - accuracy: 0.9081 - val_loss: 0.6183 - val_accuracy: 0.7915\n",
      "Epoch 24/25\n",
      "250/250 [==============================] - 17s 67ms/step - loss: 0.3532 - accuracy: 0.9085 - val_loss: 0.6122 - val_accuracy: 0.7935\n",
      "Epoch 25/25\n",
      "250/250 [==============================] - 17s 69ms/step - loss: 0.3468 - accuracy: 0.9155 - val_loss: 0.5351 - val_accuracy: 0.8020\n"
     ]
    },
    {
     "data": {
      "text/plain": [
       "<keras.callbacks.History at 0x161444850>"
      ]
     },
     "execution_count": 30,
     "metadata": {},
     "output_type": "execute_result"
    }
   ],
   "source": [
    "cnn.fit(\n",
    "    x = training_set,\n",
    "    validation_data = test_set,\n",
    "    epochs = 25\n",
    ")"
   ]
  },
  {
   "cell_type": "markdown",
   "metadata": {},
   "source": [
    "### Making a single prediction"
   ]
  },
  {
   "cell_type": "code",
   "execution_count": 44,
   "metadata": {},
   "outputs": [
    {
     "name": "stdout",
     "output_type": "stream",
     "text": [
      "cat\n"
     ]
    }
   ],
   "source": [
    "import numpy as np \n",
    "from keras.preprocessing import image\n",
    "\n",
    "#vectorize image\n",
    "IMAGE = 2 # 1 for dog, 2 for cat\n",
    "test_image = image.load_img(f'dataset/single_prediction/cat_or_dog_{IMAGE}.jpg', target_size = (64,64))\n",
    "test_image = image.img_to_array(test_image)\n",
    "test_image = np.expand_dims(test_image, axis = 0 )\n",
    "\n",
    "result = cnn.predict(test_image)\n",
    "#prediction\n",
    "prediction = 'cat' \n",
    "if result[0][0] > 0.5:\n",
    "    prediction = 'dog'\n",
    "\n",
    "    \n",
    "print(prediction) \n"
   ]
  },
  {
   "cell_type": "code",
   "execution_count": null,
   "metadata": {},
   "outputs": [],
   "source": []
  }
 ],
 "metadata": {
  "interpreter": {
   "hash": "2ab04e040a433bf6ba14ba60baa9fe8a73464c83ea387043b6cfefa471b56ce5"
  },
  "kernelspec": {
   "display_name": "Python 3.9.9 64-bit ('udemy-ml': conda)",
   "language": "python",
   "name": "python3"
  },
  "language_info": {
   "codemirror_mode": {
    "name": "ipython",
    "version": 3
   },
   "file_extension": ".py",
   "mimetype": "text/x-python",
   "name": "python",
   "nbconvert_exporter": "python",
   "pygments_lexer": "ipython3",
   "version": "3.9.9"
  },
  "orig_nbformat": 4
 },
 "nbformat": 4,
 "nbformat_minor": 2
}
